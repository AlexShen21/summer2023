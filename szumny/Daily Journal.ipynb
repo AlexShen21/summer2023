{
 "cells": [
  {
   "attachments": {},
   "cell_type": "markdown",
   "metadata": {},
   "source": [
    "Week 1 (05/30-06/2)   \n",
    "                          \n",
    "Day 1 (Tuesday, May 30th, 2023): Today was my first day working at Argonne. I was pretty nervous to start but after going through my day I calmed down. The day started off with attending orientation from 9-12, and then lunch from 12-1. It was then time to report to my workstation and meet with my mentors and supervisor. It was really great to meet them, and they gave me a rundown of my project and what to expect from it. I didn’t do much actual work, but I spent the rest of the day completing all my required training, and also set up my computer to be able to code.\n",
    "\n",
    "Day 2 (Wednesday, May 31st, 2023): Today started off by once again attending orientation from 9-12. I went to lunch yet again, and at 1 reported back to my workstation. I had to complete the rest of my training as they had added some for me to do. I then began to start working on my project. My first task was to convert all of the xml files from the given data into one large csv file, with information such as the filename, the folder, and the coordinates of the smoke. I worked on this all day, but got stuck on figuring out how to get the coordinates into their correct spots. The reason for this was because the direct child of the object in the xml file was not multiple x’s and y’s, but one large text which I would have to split up in order to get the respective x’s and y’s.\n",
    "\n",
    "Day 3 (Thursday, June 1st, 2023): Today was my first full day at work. I got to my station at 8:30, and began by checking all my emails and making sure I'm up to date with everything. I then created my personal introduction chart, and then I began trying to crack down on the problem. I managed to figure out how to successfully get the maximum and minimum of the x’s and y’s into their respective dataframe locations. I did this by looping through the child object and comparing them to preset variables in order to get the absolute max and absolute min. After I completed this, I went over to the weekly meeting at 10:00, in which we all introduced ourselves, and asked any question that we may have had. I created a different function, which would iterate through every folder and file of xml’s from the data, run each of those xml files through the single xml to csv file function which I created. In the code it would create each individual dataframe, and then concat or combine them all into one large dataframe. I was very proud after I completed this step, because it felt like it took forever. After this I went to lunch until 1:00. Once I came back, I started trying to figure out how to crop each image. My next step was to take every instance of smoke from the csv file I created, and crop it at the given points to only have pictures of the actual smoke. Bhupendra told me to first only crop one individual image, in order to see how it crops. I used the Pillow Image functions in order to do this, but once I cropped the image I realized that something was wrong. It didn’t crop only the smoke and instead cropped the image randomly. I thought about why this may be and after looking through my code I realized that when I actually converted the xml to the df, I was grabbing the points of the image, and not the points of the boundary boxes of the smoke. I went back to fix my mistake, and once I had gone through my other code to fix and other errors that arose, the single image crop worked perfectly. I then wrote a function which would take the csv file of size 9,550, and crop each image in the dataset to their smoke coordinates. This function was much easier to create, but when I was running it (which took a very long time because I was saving 9,500 cropped images into a separate folder on my computer), the function kept crashing at one given moment. After looking at the error message which said the given directory was not found, I double checked and found that there was actually a typo in the xml file for the folder name, where it contained a dash and not an underscore. I added a condition in the code where if that specific folder was found, to change the name to its correct name, which worked. This error happened a few times while running the code, but I managed to correct all of the discrepancies and the function finished running. I now have a complete file with all images of the smoke which were cropped.\n"
   ]
  },
  {
   "attachments": {},
   "cell_type": "markdown",
   "metadata": {},
   "source": [
    "Day 4 (Friday, June 2nd, 2023): I first began by trying to figure out how to resize my images. I had to think about this for a while because this would be very important later on. I did some analyzing of the image sizes from my cropped images, and found that a majority of them were at least 100 by 100. So I plan on going in that direction. I started exploring a way to split the images further, specifically by rgb color ratios, but later after talking with bhupendra, I will do it simpler now and can go down that path later on. My next goal was to get about the same amount of sky images and ground images as my smoke imagees (about 9000). I was pretty stuck on this, and was trying out many things. I first tried to reverse crop the images, to remove the smoke and leave everything else. I worked on this and when I was done, I realized there was too much error, where a lot of smoke was still ending up in the image. I decided to go down a different road, and to figure out how to crop the images better. I created a program, which would check if the beginning of the smoke was before or after the middle of that image. If it was before, I would crop the full image from the max x of the smoke to the full size of the image, and if it was after the middle, I would crop the image from 0 to the min x of the smoke. I kept y as the full image, as I want to be able to use the sky and the ground. I tested it, but having it start right at the start or end of smoke also had a little bit of smoke poking through, so I then respectively pushed it back by about 250 pixels, which seemed to do the trick. At this point I was cropping the images well to not have smoke, but now I had to seperate the sky and the ground. I once again cropped the image I got in the same for loop, and changed the y this time, while keeping the full x of the cropped image. I changed y by a few different values with trial and error, but then found that 1050, was a pretty good height to seperate the ground and the sky. Once I ran this code, I was left with 2 new folders containing either sky or ground pictures. These pictures were very large, and I recieved advice to split the images up to have even more images. This was a tough one, but I found a really good function called image_slicer, which could slice an image and save the new images automatically with a given input of the amount of slices. I also did a bit of trial and error with the amount of slices, but I found that 9 keeps the images mostly above 100 by 100, and had pretty solid results. I ran this program and it worked perfectly as it saved about 9,000 new sliced images into new files, ground slices and sky slices respectively. This now leaves me with a folder of 9,000 smoke images, and 9,000 sky and ground images as well. This will allow me to obtain better results when I begin creating a model. Starting to create this model will be my first task starting next week."
   ]
  },
  {
   "attachments": {},
   "cell_type": "markdown",
   "metadata": {},
   "source": []
  }
 ],
 "metadata": {
  "language_info": {
   "name": "python"
  },
  "orig_nbformat": 4
 },
 "nbformat": 4,
 "nbformat_minor": 2
}
