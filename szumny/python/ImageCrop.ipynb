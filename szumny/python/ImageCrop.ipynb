{
 "cells": [
  {
   "cell_type": "code",
   "execution_count": 8,
   "metadata": {},
   "outputs": [],
   "source": [
    "import pandas as pd\n",
    "from PIL import Image\n",
    "import cv2"
   ]
  },
  {
   "cell_type": "code",
   "execution_count": 52,
   "metadata": {},
   "outputs": [],
   "source": [
    "fulldata = pd.read_csv(\"/home/jszumny/Documents/copy of smoke data/hpwren/python/fulldata.csv\")"
   ]
  },
  {
   "cell_type": "code",
   "execution_count": 56,
   "metadata": {},
   "outputs": [
    {
     "data": {
      "text/plain": [
       "'smoke_detection1/20200611-skyline-lp-n-mobo-c'"
      ]
     },
     "execution_count": 56,
     "metadata": {},
     "output_type": "execute_result"
    }
   ],
   "source": [
    "folder = fulldata[\"folder\"][1025]\n",
    "folder = folder[folder.find(\"/\"):]"
   ]
  },
  {
   "cell_type": "code",
   "execution_count": 34,
   "metadata": {},
   "outputs": [],
   "source": [
    "directory = '/home/jszumny/Documents/copy of smoke data/hpwren/data/hpwren'\n",
    "img = Image.open(directory + str(fulldata[\"folder\"][5000].replace(\"smoke_detection1\", \"\")) +\"/\" + fulldata[\"filename\"][5000])\n",
    "img.show()\n"
   ]
  },
  {
   "cell_type": "code",
   "execution_count": 35,
   "metadata": {},
   "outputs": [],
   "source": [
    "\n",
    "img2 = img.crop((fulldata[\"xmin\"][5000], fulldata[\"ymin\"][5000], fulldata[\"xmax\"][5000], fulldata[\"ymax\"][5000]))\n",
    "\n",
    "img2.show()\n",
    "\n"
   ]
  },
  {
   "cell_type": "code",
   "execution_count": 87,
   "metadata": {},
   "outputs": [],
   "source": [
    "directory = '/home/jszumny/Documents/copy of smoke data/hpwren/data/hpwren'\n",
    "\n",
    "for i in range(len(fulldata)):\n",
    "    folder = str(fulldata[\"folder\"][i])\n",
    "    folder = folder[folder.find(\"/\"):]\n",
    "    \n",
    "    if folder == \"/20200611-skyline-lp-n-mobo-c\":\n",
    "        folder = \"/20200611_skyline_lp-n-mobo-c\"\n",
    "    if folder == \"/20200608-FIRE-rm-w-mobo-c\":\n",
    "        folder = \"/20200608_FIRE_rm-w-mobo-c\"\n",
    "    if folder == \"/20200614-DrumCanyon-syp-w-mobo-c\":\n",
    "        folder = \"/20200614_DrumCanyon_syp-w-mobo-c\"\n",
    "    if folder == \"/20200709-Tripp-hp-n-mobo-c\":\n",
    "        folder = \"/20200709_Tripp_hp-n-mobo-c\"\n",
    "    if folder == \"/20200705-FIRE-bm-w-mobo-c\":\n",
    "        folder = \"/20200705_FIRE_bm-w-mobo-c\"\n",
    "    if folder == \"/20200705-FIRE-wc-n-mobo-c\":\n",
    "        folder = \"/20200705_FIRE_wc-n-mobo-c\"\n",
    "    if folder == \"/20200618-FIRE-om-w-mobo-c\":\n",
    "        folder = \"/20200618_FIRE_om-w-mobo-c\"\n",
    "    if folder == \"/20200615-Rainbow-rm-e-mobo-c\":\n",
    "        folder = \"/20200615_Rainbow_rm-e-mobo-c\"\n",
    "    \n",
    "   \n",
    "    img = Image.open(directory + folder +\"/\" + fulldata[\"filename\"][i])\n",
    "    img2 = img.crop((fulldata[\"xmin\"][i], fulldata[\"ymin\"][i], fulldata[\"xmax\"][i], fulldata[\"ymax\"][i]))\n",
    "    img2.save('/home/jszumny/Documents/copy of smoke data/hpwren/cropped smoke images/smoke_' + str(i) + \".jpg\")\n",
    "    \n"
   ]
  },
  {
   "cell_type": "code",
   "execution_count": 74,
   "metadata": {},
   "outputs": [
    {
     "name": "stdout",
     "output_type": "stream",
     "text": [
      "smoke_detection1/20180517_FIRE_rm-n-mobo-c\n"
     ]
    },
    {
     "data": {
      "text/plain": [
       "'1526594880_+01020.jpg'"
      ]
     },
     "execution_count": 74,
     "metadata": {},
     "output_type": "execute_result"
    }
   ],
   "source": [
    "print(fulldata[\"folder\"][3694])\n",
    "fulldata[\"filename\"][3694]"
   ]
  },
  {
   "cell_type": "code",
   "execution_count": null,
   "metadata": {},
   "outputs": [],
   "source": []
  }
 ],
 "metadata": {
  "kernelspec": {
   "display_name": "Python 3",
   "language": "python",
   "name": "python3"
  },
  "language_info": {
   "codemirror_mode": {
    "name": "ipython",
    "version": 3
   },
   "file_extension": ".py",
   "mimetype": "text/x-python",
   "name": "python",
   "nbconvert_exporter": "python",
   "pygments_lexer": "ipython3",
   "version": "3.10.6"
  },
  "orig_nbformat": 4
 },
 "nbformat": 4,
 "nbformat_minor": 2
}
