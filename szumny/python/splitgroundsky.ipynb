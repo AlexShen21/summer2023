{
 "cells": [
  {
   "cell_type": "code",
   "execution_count": 2,
   "metadata": {},
   "outputs": [
    {
     "data": {
      "text/plain": [
       "1536"
      ]
     },
     "execution_count": 2,
     "metadata": {},
     "output_type": "execute_result"
    }
   ],
   "source": [
    "from PIL import Image\n",
    "import numpy as np      \n",
    "import pandas as pd  \n",
    "\n",
    "\n",
    "\n",
    "\n",
    "\n",
    "fulldata = pd.read_csv('/home/jszumny/Documents/copy of smoke data/hpwren/python/fulldata.csv')\n",
    "# Opening the image and converting \n",
    "# it to RGB color mode\n",
    "# IMAGE_PATH => Path to the image\n",
    "img = Image.open('/home/jszumny/Documents/copy of smoke data/hpwren/data/hpwren/20160604_FIRE_rm-n-mobo-c/1465065720_+00120.jpg').convert('RGB')\n",
    "  \n",
    "# Extracting the image data &\n",
    "# creating an numpy array out of it\n",
    "img_arr = np.array(img)\n",
    "  \n",
    "# Turning the pixel values of the 400x400 pixels to black \n",
    "img_arr[fulldata[\"ymin\"][0] : fulldata[\"ymax\"][0], fulldata[\"xmin\"][0] : fulldata[\"xmax\"][0]] = (0, 0, 0)\n",
    "  \n",
    "# Creating an image out of the previously modified array\n",
    "img = Image.fromarray(img_arr)\n",
    "  \n",
    "# Displaying the image\n",
    "img.show()\n",
    "\n",
    "img.size[1]"
   ]
  },
  {
   "cell_type": "code",
   "execution_count": 17,
   "metadata": {},
   "outputs": [],
   "source": [
    "directory = '/home/jszumny/Documents/copy of smoke data/hpwren/data/hpwren'\n",
    "\n",
    "for i in range(len(fulldata)):\n",
    "    folder = str(fulldata[\"folder\"][i])\n",
    "    folder = folder[folder.find(\"/\"):]\n",
    "\n",
    "    filename = str(fulldata[\"filename\"][i])\n",
    "    filename = filename[:filename.find(\".jpg\")]\n",
    "    \n",
    "    if folder == \"/20200611-skyline-lp-n-mobo-c\":\n",
    "        folder = \"/20200611_skyline_lp-n-mobo-c\"\n",
    "    if folder == \"/20200608-FIRE-rm-w-mobo-c\":\n",
    "        folder = \"/20200608_FIRE_rm-w-mobo-c\"\n",
    "    if folder == \"/20200614-DrumCanyon-syp-w-mobo-c\":\n",
    "        folder = \"/20200614_DrumCanyon_syp-w-mobo-c\"\n",
    "    if folder == \"/20200709-Tripp-hp-n-mobo-c\":\n",
    "        folder = \"/20200709_Tripp_hp-n-mobo-c\"\n",
    "    if folder == \"/20200705-FIRE-bm-w-mobo-c\":\n",
    "        folder = \"/20200705_FIRE_bm-w-mobo-c\"\n",
    "    if folder == \"/20200705-FIRE-wc-n-mobo-c\":\n",
    "        folder = \"/20200705_FIRE_wc-n-mobo-c\"\n",
    "    if folder == \"/20200618-FIRE-om-w-mobo-c\":\n",
    "        folder = \"/20200618_FIRE_om-w-mobo-c\"\n",
    "    if folder == \"/20200615-Rainbow-rm-e-mobo-c\":\n",
    "        folder = \"/20200615_Rainbow_rm-e-mobo-c\"\n",
    "    \n",
    "   \n",
    "    img = Image.open(directory + folder +\"/\" + fulldata[\"filename\"][i])\n",
    "    if((fulldata[\"xmin\"][i]!= 0) & (fulldata[\"xmax\"][i]!= img.size[0])):\n",
    "        if fulldata[\"xmin\"][i] <= img.size[0]/2:\n",
    "            img2 = img.crop((fulldata[\"xmax\"][i], 0, img.size[0], img.size[1]))\n",
    "        else:\n",
    "            img2 = img.crop((0, 100, fulldata[\"xmin\"][i], img.size[1]))\n",
    "\n",
    "        img2.save('/home/jszumny/Documents/copy of smoke data/newnew/ground+sky+nosmoke' + folder + \"_\" + filename + \"_\" + fulldata[\"type\"][i] + \"_sky+ground.jpg\")"
   ]
  },
  {
   "cell_type": "code",
   "execution_count": 22,
   "metadata": {},
   "outputs": [
    {
     "ename": "UnidentifiedImageError",
     "evalue": "cannot identify image file '/home/jszumny/Documents/copy of smoke data/newnew/ground+sky+nosmoke/20180611_fallbrook_rm-w-mobo-c_1528759686_+02280_sbb_sky+ground.jpg'",
     "output_type": "error",
     "traceback": [
      "\u001b[0;31m---------------------------------------------------------------------------\u001b[0m",
      "\u001b[0;31mUnidentifiedImageError\u001b[0m                    Traceback (most recent call last)",
      "\u001b[0;32m/tmp/ipykernel_1305046/195955727.py\u001b[0m in \u001b[0;36m<module>\u001b[0;34m\u001b[0m\n\u001b[1;32m      2\u001b[0m \u001b[0mdirectory\u001b[0m \u001b[0;34m=\u001b[0m \u001b[0;34m'/home/jszumny/Documents/copy of smoke data/newnew/ground+sky+nosmoke/'\u001b[0m\u001b[0;34m\u001b[0m\u001b[0;34m\u001b[0m\u001b[0m\n\u001b[1;32m      3\u001b[0m \u001b[0;32mfor\u001b[0m \u001b[0mfilename\u001b[0m \u001b[0;32min\u001b[0m \u001b[0mos\u001b[0m\u001b[0;34m.\u001b[0m\u001b[0mlistdir\u001b[0m\u001b[0;34m(\u001b[0m\u001b[0mdirectory\u001b[0m\u001b[0;34m)\u001b[0m\u001b[0;34m:\u001b[0m\u001b[0;34m\u001b[0m\u001b[0;34m\u001b[0m\u001b[0m\n\u001b[0;32m----> 4\u001b[0;31m     \u001b[0mimage\u001b[0m \u001b[0;34m=\u001b[0m \u001b[0mImage\u001b[0m\u001b[0;34m.\u001b[0m\u001b[0mopen\u001b[0m\u001b[0;34m(\u001b[0m\u001b[0mdirectory\u001b[0m \u001b[0;34m+\u001b[0m \u001b[0mfilename\u001b[0m\u001b[0;34m)\u001b[0m\u001b[0;34m\u001b[0m\u001b[0;34m\u001b[0m\u001b[0m\n\u001b[0m\u001b[1;32m      5\u001b[0m \u001b[0;34m\u001b[0m\u001b[0m\n\u001b[1;32m      6\u001b[0m     \u001b[0mfilename\u001b[0m \u001b[0;34m=\u001b[0m \u001b[0mfilename\u001b[0m\u001b[0;34m[\u001b[0m\u001b[0;34m:\u001b[0m\u001b[0mfilename\u001b[0m\u001b[0;34m.\u001b[0m\u001b[0mfind\u001b[0m\u001b[0;34m(\u001b[0m\u001b[0;34m\"sky+ground.jpg\"\u001b[0m\u001b[0;34m)\u001b[0m\u001b[0;34m]\u001b[0m\u001b[0;34m\u001b[0m\u001b[0;34m\u001b[0m\u001b[0m\n",
      "\u001b[0;32m~/.local/lib/python3.10/site-packages/PIL/Image.py\u001b[0m in \u001b[0;36mopen\u001b[0;34m(fp, mode)\u001b[0m\n\u001b[1;32m   2928\u001b[0m     \u001b[0;32mfor\u001b[0m \u001b[0mmessage\u001b[0m \u001b[0;32min\u001b[0m \u001b[0maccept_warnings\u001b[0m\u001b[0;34m:\u001b[0m\u001b[0;34m\u001b[0m\u001b[0;34m\u001b[0m\u001b[0m\n\u001b[1;32m   2929\u001b[0m         \u001b[0mwarnings\u001b[0m\u001b[0;34m.\u001b[0m\u001b[0mwarn\u001b[0m\u001b[0;34m(\u001b[0m\u001b[0mmessage\u001b[0m\u001b[0;34m)\u001b[0m\u001b[0;34m\u001b[0m\u001b[0;34m\u001b[0m\u001b[0m\n\u001b[0;32m-> 2930\u001b[0;31m     raise UnidentifiedImageError(\n\u001b[0m\u001b[1;32m   2931\u001b[0m         \u001b[0;34m\"cannot identify image file %r\"\u001b[0m \u001b[0;34m%\u001b[0m \u001b[0;34m(\u001b[0m\u001b[0mfilename\u001b[0m \u001b[0;32mif\u001b[0m \u001b[0mfilename\u001b[0m \u001b[0;32melse\u001b[0m \u001b[0mfp\u001b[0m\u001b[0;34m)\u001b[0m\u001b[0;34m\u001b[0m\u001b[0;34m\u001b[0m\u001b[0m\n\u001b[1;32m   2932\u001b[0m     )\n",
      "\u001b[0;31mUnidentifiedImageError\u001b[0m: cannot identify image file '/home/jszumny/Documents/copy of smoke data/newnew/ground+sky+nosmoke/20180611_fallbrook_rm-w-mobo-c_1528759686_+02280_sbb_sky+ground.jpg'"
     ]
    }
   ],
   "source": [
    "import os\n",
    "directory = '/home/jszumny/Documents/copy of smoke data/newnew/ground+sky+nosmoke/'\n",
    "for filename in os.listdir(directory):\n",
    "    image = Image.open(directory + filename)\n",
    "\n",
    "    filename = filename[:filename.find(\"sky+ground.jpg\")]\n",
    "\n",
    "    new_image = image.resize((1200, 1200))\n",
    "\n",
    "    sky_cropped = new_image.crop((200, 0, (new_image.size[0]-200), 450))\n",
    "    horizon_cropped = new_image.crop((200, 450, (new_image.size[0]-200), 750))\n",
    "    ground_cropped = new_image.crop((200, 750, (new_image.size[0]-200), new_image.size[1]))\n",
    "\n",
    "    sky_resized = sky_cropped.resize((224,224))\n",
    "    horizon_resized = horizon_cropped.resize((224,224))\n",
    "    ground_resized = ground_cropped.resize((224,224))\n",
    "\n",
    "    sky_resized.save('/home/jszumny/Documents/copy of smoke data/newnew/sky/'+ filename + \"sky.jpg\")\n",
    "    ground_resized.save('/home/jszumny/Documents/copy of smoke data/newnew/ground/'+ filename + \"ground.jpg\")\n",
    "    horizon_resized.save('/home/jszumny/Documents/copy of smoke data/newnew/horizon/'+ filename + \"horizon.jpg\")"
   ]
  },
  {
   "cell_type": "code",
   "execution_count": 16,
   "metadata": {},
   "outputs": [
    {
     "ename": "KeyboardInterrupt",
     "evalue": "",
     "output_type": "error",
     "traceback": [
      "\u001b[0;31m---------------------------------------------------------------------------\u001b[0m",
      "\u001b[0;31mKeyboardInterrupt\u001b[0m                         Traceback (most recent call last)",
      "\u001b[0;32m/tmp/ipykernel_1305046/2600732933.py\u001b[0m in \u001b[0;36m<module>\u001b[0;34m\u001b[0m\n\u001b[1;32m      3\u001b[0m \u001b[0;32mfor\u001b[0m \u001b[0mfilename\u001b[0m \u001b[0;32min\u001b[0m \u001b[0mos\u001b[0m\u001b[0;34m.\u001b[0m\u001b[0mlistdir\u001b[0m\u001b[0;34m(\u001b[0m\u001b[0mdirectory\u001b[0m\u001b[0;34m)\u001b[0m\u001b[0;34m:\u001b[0m\u001b[0;34m\u001b[0m\u001b[0;34m\u001b[0m\u001b[0m\n\u001b[1;32m      4\u001b[0m     \u001b[0mimage\u001b[0m \u001b[0;34m=\u001b[0m \u001b[0mImage\u001b[0m\u001b[0;34m.\u001b[0m\u001b[0mopen\u001b[0m\u001b[0;34m(\u001b[0m\u001b[0mdirectory\u001b[0m \u001b[0;34m+\u001b[0m \u001b[0mfilename\u001b[0m\u001b[0;34m)\u001b[0m\u001b[0;34m\u001b[0m\u001b[0;34m\u001b[0m\u001b[0m\n\u001b[0;32m----> 5\u001b[0;31m     \u001b[0mnew_image\u001b[0m \u001b[0;34m=\u001b[0m \u001b[0mimage\u001b[0m\u001b[0;34m.\u001b[0m\u001b[0mresize\u001b[0m\u001b[0;34m(\u001b[0m\u001b[0;34m(\u001b[0m\u001b[0;36m250\u001b[0m\u001b[0;34m,\u001b[0m \u001b[0;36m224\u001b[0m\u001b[0;34m)\u001b[0m\u001b[0;34m)\u001b[0m\u001b[0;34m\u001b[0m\u001b[0;34m\u001b[0m\u001b[0m\n\u001b[0m\u001b[1;32m      6\u001b[0m     \u001b[0mcropped\u001b[0m \u001b[0;34m=\u001b[0m \u001b[0mnew_image\u001b[0m\u001b[0;34m.\u001b[0m\u001b[0mcrop\u001b[0m\u001b[0;34m(\u001b[0m\u001b[0;34m(\u001b[0m\u001b[0;36m13\u001b[0m\u001b[0;34m,\u001b[0m \u001b[0;36m0\u001b[0m\u001b[0;34m,\u001b[0m \u001b[0;34m(\u001b[0m\u001b[0mnew_image\u001b[0m\u001b[0;34m.\u001b[0m\u001b[0msize\u001b[0m\u001b[0;34m[\u001b[0m\u001b[0;36m0\u001b[0m\u001b[0;34m]\u001b[0m\u001b[0;34m-\u001b[0m\u001b[0;36m13\u001b[0m\u001b[0;34m)\u001b[0m\u001b[0;34m,\u001b[0m \u001b[0mnew_image\u001b[0m\u001b[0;34m.\u001b[0m\u001b[0msize\u001b[0m\u001b[0;34m[\u001b[0m\u001b[0;36m1\u001b[0m\u001b[0;34m]\u001b[0m\u001b[0;34m)\u001b[0m\u001b[0;34m)\u001b[0m\u001b[0;34m\u001b[0m\u001b[0;34m\u001b[0m\u001b[0m\n\u001b[1;32m      7\u001b[0m     \u001b[0mcropped\u001b[0m\u001b[0;34m.\u001b[0m\u001b[0msave\u001b[0m\u001b[0;34m(\u001b[0m\u001b[0mdirectory\u001b[0m \u001b[0;34m+\u001b[0m \u001b[0mfilename\u001b[0m\u001b[0;34m)\u001b[0m\u001b[0;34m\u001b[0m\u001b[0;34m\u001b[0m\u001b[0m\n",
      "\u001b[0;32m~/.local/lib/python3.10/site-packages/PIL/Image.py\u001b[0m in \u001b[0;36mresize\u001b[0;34m(self, size, resample, box, reducing_gap)\u001b[0m\n\u001b[1;32m   1927\u001b[0m                 )\n\u001b[1;32m   1928\u001b[0m \u001b[0;34m\u001b[0m\u001b[0m\n\u001b[0;32m-> 1929\u001b[0;31m         \u001b[0;32mreturn\u001b[0m \u001b[0mself\u001b[0m\u001b[0;34m.\u001b[0m\u001b[0m_new\u001b[0m\u001b[0;34m(\u001b[0m\u001b[0mself\u001b[0m\u001b[0;34m.\u001b[0m\u001b[0mim\u001b[0m\u001b[0;34m.\u001b[0m\u001b[0mresize\u001b[0m\u001b[0;34m(\u001b[0m\u001b[0msize\u001b[0m\u001b[0;34m,\u001b[0m \u001b[0mresample\u001b[0m\u001b[0;34m,\u001b[0m \u001b[0mbox\u001b[0m\u001b[0;34m)\u001b[0m\u001b[0;34m)\u001b[0m\u001b[0;34m\u001b[0m\u001b[0;34m\u001b[0m\u001b[0m\n\u001b[0m\u001b[1;32m   1930\u001b[0m \u001b[0;34m\u001b[0m\u001b[0m\n\u001b[1;32m   1931\u001b[0m     \u001b[0;32mdef\u001b[0m \u001b[0mreduce\u001b[0m\u001b[0;34m(\u001b[0m\u001b[0mself\u001b[0m\u001b[0;34m,\u001b[0m \u001b[0mfactor\u001b[0m\u001b[0;34m,\u001b[0m \u001b[0mbox\u001b[0m\u001b[0;34m=\u001b[0m\u001b[0;32mNone\u001b[0m\u001b[0;34m)\u001b[0m\u001b[0;34m:\u001b[0m\u001b[0;34m\u001b[0m\u001b[0;34m\u001b[0m\u001b[0m\n",
      "\u001b[0;31mKeyboardInterrupt\u001b[0m: "
     ]
    }
   ],
   "source": [
    "import os\n",
    "directory = '/home/jszumny/Documents/copy of smoke data/newnew/ground+sky+nosmoke/'\n",
    "for filename in os.listdir(directory):\n",
    "    image = Image.open(directory + filename)\n",
    "    new_image = image.resize((250, 224))\n",
    "    cropped = new_image.crop((13, 0, (new_image.size[0]-13), new_image.size[1]))\n",
    "    cropped.save(directory + filename)"
   ]
  },
  {
   "cell_type": "code",
   "execution_count": 20,
   "metadata": {},
   "outputs": [],
   "source": [
    "import image_slicer\n",
    "for i in range(1000):\n",
    "    \n",
    "    ground_tiles = image_slicer.slice('/home/jszumny/Documents/copy of smoke data/hpwren/ground/ground_' + str(i) + \".jpg\", 8, save=False)\n",
    "    image_slicer.save_tiles(ground_tiles, directory='/home/jszumny/Documents/copy of smoke data/hpwren/cropped ground images',prefix='ground' + str(i), format =\"jpeg\")\n",
    "\n",
    "    sky_tiles = image_slicer.slice('/home/jszumny/Documents/copy of smoke data/hpwren/sky/sky_' + str(i) + \".jpg\", 8, save=False)\n",
    "    image_slicer.save_tiles(sky_tiles, directory='/home/jszumny/Documents/copy of smoke data/hpwren/cropped sky images',prefix='sky' + str(i), format =\"jpeg\")\n"
   ]
  },
  {
   "cell_type": "code",
   "execution_count": 1,
   "metadata": {},
   "outputs": [
    {
     "name": "stderr",
     "output_type": "stream",
     "text": [
      "2023-06-08 14:45:41.926133: I tensorflow/tsl/cuda/cudart_stub.cc:28] Could not find cuda drivers on your machine, GPU will not be used.\n",
      "2023-06-08 14:45:41.974667: I tensorflow/tsl/cuda/cudart_stub.cc:28] Could not find cuda drivers on your machine, GPU will not be used.\n",
      "2023-06-08 14:45:41.980084: I tensorflow/core/platform/cpu_feature_guard.cc:182] This TensorFlow binary is optimized to use available CPU instructions in performance-critical operations.\n",
      "To enable the following instructions: AVX2 FMA, in other operations, rebuild TensorFlow with the appropriate compiler flags.\n",
      "2023-06-08 14:45:45.364361: W tensorflow/compiler/tf2tensorrt/utils/py_utils.cc:38] TF-TRT Warning: Could not find TensorRT\n"
     ]
    }
   ],
   "source": [
    "import keras,os"
   ]
  },
  {
   "cell_type": "code",
   "execution_count": null,
   "metadata": {},
   "outputs": [],
   "source": [
    "directory = '/home/jszumny/Documents/copy of smoke data/hpwren/newnew/smoke/'\n",
    "\n",
    "for filename in os.listdir(directory):\n",
    "    img = Image.open(directory + filename)\n",
    "    if fulldata[\"xmin\"][i] <= img.size[0]/2:\n",
    "        img2 = img.crop((fulldata[\"xmax\"][i] + 250, 0, img.size[0], img.size[1]))\n",
    "    else:\n",
    "        img2 = img.crop((0, 100, fulldata[\"xmin\"][i]-250, img.size[1]))\n",
    "\n",
    "    imgsky = img2.crop((0, 0, img2.size[0], img2.size[1]-1050))\n",
    "    imgground = img2.crop((0, 1000, img2.size[0], img2.size[1]))\n",
    "    imgsky.save('/home/jszumny/Documents/copy of smoke data/hpwren/sky/sky_' + str(i) + \".jpg\")\n",
    "    imgground.save('/home/jszumny/Documents/copy of smoke data/hpwren/ground/ground_' + str(i) + \".jpg\")"
   ]
  }
 ],
 "metadata": {
  "kernelspec": {
   "display_name": "Python 3",
   "language": "python",
   "name": "python3"
  },
  "language_info": {
   "codemirror_mode": {
    "name": "ipython",
    "version": 3
   },
   "file_extension": ".py",
   "mimetype": "text/x-python",
   "name": "python",
   "nbconvert_exporter": "python",
   "pygments_lexer": "ipython3",
   "version": "3.10.6"
  },
  "orig_nbformat": 4
 },
 "nbformat": 4,
 "nbformat_minor": 2
}
