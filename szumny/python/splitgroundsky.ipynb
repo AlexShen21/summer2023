{
 "cells": [
  {
   "cell_type": "code",
   "execution_count": 16,
   "metadata": {},
   "outputs": [
    {
     "data": {
      "text/plain": [
       "1536"
      ]
     },
     "execution_count": 16,
     "metadata": {},
     "output_type": "execute_result"
    }
   ],
   "source": [
    "from PIL import Image\n",
    "import numpy as np      \n",
    "import pandas as pd  \n",
    "\n",
    "\n",
    "\n",
    "\n",
    "\n",
    "fulldata = pd.read_csv('/home/jszumny/Documents/copy of smoke data/hpwren/python/fulldata.csv')\n",
    "# Opening the image and converting \n",
    "# it to RGB color mode\n",
    "# IMAGE_PATH => Path to the image\n",
    "img = Image.open('/home/jszumny/Documents/copy of smoke data/hpwren/data/hpwren/20160604_FIRE_rm-n-mobo-c/1465065720_+00120.jpg').convert('RGB')\n",
    "  \n",
    "# Extracting the image data &\n",
    "# creating an numpy array out of it\n",
    "img_arr = np.array(img)\n",
    "  \n",
    "# Turning the pixel values of the 400x400 pixels to black \n",
    "img_arr[fulldata[\"ymin\"][0] : fulldata[\"ymax\"][0], fulldata[\"xmin\"][0] : fulldata[\"xmax\"][0]] = (0, 0, 0)\n",
    "  \n",
    "# Creating an image out of the previously modified array\n",
    "img = Image.fromarray(img_arr)\n",
    "  \n",
    "# Displaying the image\n",
    "img.show()\n",
    "\n",
    "img.size[1]"
   ]
  },
  {
   "cell_type": "code",
   "execution_count": 17,
   "metadata": {},
   "outputs": [],
   "source": [
    "# directory = '/home/jszumny/Documents/copy of smoke data/hpwren/data/hpwren'\n",
    "\n",
    "# for i in range(1000):\n",
    "#     folder = str(fulldata[\"folder\"][i])\n",
    "#     folder = folder[folder.find(\"/\"):]\n",
    "    \n",
    "#     if folder == \"/20200611-skyline-lp-n-mobo-c\":\n",
    "#         folder = \"/20200611_skyline_lp-n-mobo-c\"\n",
    "#     if folder == \"/20200608-FIRE-rm-w-mobo-c\":\n",
    "#         folder = \"/20200608_FIRE_rm-w-mobo-c\"\n",
    "#     if folder == \"/20200614-DrumCanyon-syp-w-mobo-c\":\n",
    "#         folder = \"/20200614_DrumCanyon_syp-w-mobo-c\"\n",
    "#     if folder == \"/20200709-Tripp-hp-n-mobo-c\":\n",
    "#         folder = \"/20200709_Tripp_hp-n-mobo-c\"\n",
    "#     if folder == \"/20200705-FIRE-bm-w-mobo-c\":\n",
    "#         folder = \"/20200705_FIRE_bm-w-mobo-c\"\n",
    "#     if folder == \"/20200705-FIRE-wc-n-mobo-c\":\n",
    "#         folder = \"/20200705_FIRE_wc-n-mobo-c\"\n",
    "#     if folder == \"/20200618-FIRE-om-w-mobo-c\":\n",
    "#         folder = \"/20200618_FIRE_om-w-mobo-c\"\n",
    "#     if folder == \"/20200615-Rainbow-rm-e-mobo-c\":\n",
    "#         folder = \"/20200615_Rainbow_rm-e-mobo-c\"\n",
    "    \n",
    "   \n",
    "#     img = Image.open(directory + folder +\"/\" + fulldata[\"filename\"][i])\n",
    "#     if fulldata[\"xmin\"][i] <= img.size[0]/2:\n",
    "#         img2 = img.crop((fulldata[\"xmax\"][i] + 250, 0, img.size[0], img.size[1]))\n",
    "#     else:\n",
    "#         img2 = img.crop((0, 100, fulldata[\"xmin\"][i]-250, img.size[1]))\n",
    "\n",
    "#     imgsky = img2.crop((0, 0, img2.size[0], img2.size[1]-1050))\n",
    "#     imgground = img2.crop((0, 1000, img2.size[0], img2.size[1]))\n",
    "#     imgsky.save('/home/jszumny/Documents/copy of smoke data/hpwren/sky/sky_' + str(i) + \".jpg\")\n",
    "#     imgground.save('/home/jszumny/Documents/copy of smoke data/hpwren/ground/ground_' + str(i) + \".jpg\")"
   ]
  },
  {
   "cell_type": "code",
   "execution_count": 20,
   "metadata": {},
   "outputs": [],
   "source": [
    "import image_slicer\n",
    "for i in range(1000):\n",
    "    \n",
    "    ground_tiles = image_slicer.slice('/home/jszumny/Documents/copy of smoke data/hpwren/ground/ground_' + str(i) + \".jpg\", 8, save=False)\n",
    "    image_slicer.save_tiles(ground_tiles, directory='/home/jszumny/Documents/copy of smoke data/hpwren/cropped ground images',prefix='ground' + str(i), format =\"jpeg\")\n",
    "\n",
    "    sky_tiles = image_slicer.slice('/home/jszumny/Documents/copy of smoke data/hpwren/sky/sky_' + str(i) + \".jpg\", 8, save=False)\n",
    "    image_slicer.save_tiles(sky_tiles, directory='/home/jszumny/Documents/copy of smoke data/hpwren/cropped sky images',prefix='sky' + str(i), format =\"jpeg\")\n"
   ]
  },
  {
   "cell_type": "code",
   "execution_count": null,
   "metadata": {},
   "outputs": [],
   "source": []
  }
 ],
 "metadata": {
  "kernelspec": {
   "display_name": "Python 3",
   "language": "python",
   "name": "python3"
  },
  "language_info": {
   "codemirror_mode": {
    "name": "ipython",
    "version": 3
   },
   "file_extension": ".py",
   "mimetype": "text/x-python",
   "name": "python",
   "nbconvert_exporter": "python",
   "pygments_lexer": "ipython3",
   "version": "3.10.6"
  },
  "orig_nbformat": 4
 },
 "nbformat": 4,
 "nbformat_minor": 2
}
