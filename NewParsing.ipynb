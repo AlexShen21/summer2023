{
 "cells": [
  {
   "cell_type": "code",
   "execution_count": 34,
   "metadata": {},
   "outputs": [
    {
     "name": "stdout",
     "output_type": "stream",
     "text": [
      "                filename                                           folder  \\\n",
      "0  1465066088_+00420.jpg  smoke_detection3/20160604_FIRE_smer-tcs3-mobo-c   \n",
      "1  1465066088_+00420.jpg  smoke_detection3/20160604_FIRE_smer-tcs3-mobo-c   \n",
      "\n",
      "  type occluded                  date  xmin  ymin  xmax  ymax  \n",
      "0   sp       no  17-Aug-2020 18:14:29   717  1957   865  2127  \n",
      "1   bp       no  17-Aug-2020 18:16:02   236  1763   869  2233  \n"
     ]
    }
   ],
   "source": [
    "xml_name = \"/home/jszumny/Documents/copy of smoke data/hpwren/data/smoke_detection/20190716_FIRE_bl-s-mobo-c/1563307133_+01020.xml\"\n",
    "xml_name = \"/home/jszumny/Documents/copy of smoke data/hpwren/data/smoke_detection/20180813_FIRE_mg-w-mobo-c/1534197340_-00060.xml\"\n",
    "xml_name = \"/home/jszumny/Documents/copy of smoke data/hpwren/data/smoke_detection3/20160619_FIRE_lp-e-iqeye/1466359813_+00360.xml\"\n",
    "xml_name = \"/home/jszumny/Documents/copy of smoke data/hpwren/data/smoke_detection3/20160604_FIRE_smer-tcs3-mobo-c/1465066088_+00420.xml\"\n",
    "# xml_name = \"/home/jszumny/Documents/copy of smoke data/hpwren/data/smoke_detection/20160604_FIRE_rm-n-mobo-c/1465064580_-01020.xml\"\n",
    "\n",
    "\n",
    "\n",
    "# xml annotation to csv\n",
    "import cv2\n",
    "import os\n",
    "import pandas as pd\n",
    "import xml.etree.ElementTree as ET\n",
    "\n",
    "\n",
    "\n",
    "def convert_xml2csv(xml_file):\n",
    "    columns = [\"filename\", \"folder\", \"type\", \"occluded\", \"date\", \"xmin\", \"ymin\", \"xmax\", \"ymax\"]\n",
    "    xml_data = []\n",
    "    xml_df=pd.DataFrame()\n",
    "    try:\n",
    "        file_parse = ET.parse(xml_file)\n",
    "       \n",
    "        root = file_parse.getroot()\n",
    "        \n",
    "        for i in root.iter('object'):\n",
    "\n",
    "            xmin = 10000\n",
    "            xmax = 0\n",
    "            ymin = 10000\n",
    "            ymax = 0\n",
    "\n",
    "            for y in i[8]:\n",
    "                for b in y:\n",
    "                    \n",
    "                    if int(y[0].text) > ymax:\n",
    "                        ymax = int(y[0].text)\n",
    "                    \n",
    "                    if int(y[0].text) < ymin:\n",
    "                        ymin = int(y[0].text)\n",
    "                    \n",
    "                    if int(y[1].text) > xmax:\n",
    "                        xmax = int(y[1].text)\n",
    "                    \n",
    "                    if int(y[1].text) < xmin:\n",
    "                        xmin = int(y[1].text)\n",
    "            \n",
    "\n",
    "            if((i[0].text == \"smoke plume\")|(i[0].text == \"no smoke\")|(i[0].text == \"abc\")|(i[0].text == \"bp\") | (i[0].text == \"sp\")|(i[0].text == \"small plume\")\n",
    "               | (i[0].text == \"smoke\")):\n",
    "                value = (root.find('filename').text,\n",
    "                        root.find('folder').text,\n",
    "                        i[0].text, #smoke\n",
    "                        i[3].text,#occluded\n",
    "                        i[6].text, #date\n",
    "                        xmin,\n",
    "                        ymin,\n",
    "                        xmax,\n",
    "                        ymax\n",
    "                )\n",
    "            \n",
    "                xml_data.append(value)\n",
    "\n",
    "            xml_df = pd.DataFrame(xml_data, columns=columns)\n",
    "    except Exception as e:\n",
    "        print('xml conversion failed:{}'.format(e))\n",
    "        return pd.DataFrame(columns=columns)\n",
    "    return xml_df\n",
    "\n",
    "\n",
    "df = convert_xml2csv(xml_name)\n",
    "print(df)"
   ]
  },
  {
   "cell_type": "code",
   "execution_count": null,
   "metadata": {},
   "outputs": [],
   "source": []
  }
 ],
 "metadata": {
  "kernelspec": {
   "display_name": "Python 3",
   "language": "python",
   "name": "python3"
  },
  "language_info": {
   "codemirror_mode": {
    "name": "ipython",
    "version": 3
   },
   "file_extension": ".py",
   "mimetype": "text/x-python",
   "name": "python",
   "nbconvert_exporter": "python",
   "pygments_lexer": "ipython3",
   "version": "3.10.6"
  },
  "orig_nbformat": 4
 },
 "nbformat": 4,
 "nbformat_minor": 2
}
